{
 "cells": [
  {
   "cell_type": "code",
   "execution_count": 166,
   "metadata": {},
   "outputs": [],
   "source": [
    "from PyPDF2 import PdfReader\n",
    "import os\n",
    "import pandas as pd\n",
    "import numpy as np\n",
    "\n",
    "file = \"contents/SE Result PDF.pdf\""
   ]
  },
  {
   "cell_type": "code",
   "execution_count": 167,
   "metadata": {},
   "outputs": [],
   "source": [
    "if os.path.exists(\"ouput.txt\"):\n",
    "    os.remove(\"output.txt\")\n",
    "if os.path.exists(\"extracted_data.txt\"):\n",
    "    os.remove(\"extracted_data.txt\")"
   ]
  },
  {
   "cell_type": "code",
   "execution_count": 168,
   "metadata": {},
   "outputs": [
    {
     "name": "stdout",
     "output_type": "stream",
     "text": [
      "Data extracted and saved to output.txt\n"
     ]
    }
   ],
   "source": [
    "from PyPDF2 import PdfReader\n",
    "\n",
    "\n",
    "def extract_and_remove_spaces(file, page_range=None, output_file=None):\n",
    "    \"\"\"\n",
    "    file: input pdf file\n",
    "    page_range: a tuple (start, end) representing the range of pages to scrape,\n",
    "                or None to extract all pages\n",
    "    output_file: the output file where the modified data will be saved,\n",
    "                 or None to not save to a file\n",
    "    \"\"\"\n",
    "    try:\n",
    "        reader = PdfReader(file)\n",
    "\n",
    "        # Determine the range of pages to extract\n",
    "        if page_range is None:\n",
    "            start_page = 0\n",
    "            end_page = len(reader.pages)\n",
    "        else:\n",
    "            start_page, end_page = page_range\n",
    "\n",
    "        extracted_text = \"\"\n",
    "\n",
    "        # Extract and process pages within the specified range\n",
    "        for page_no in range(start_page, end_page):\n",
    "            page = reader.pages[page_no]\n",
    "            page_text = page.extract_text()\n",
    "\n",
    "            # Remove leading spaces until a non-space character is encountered\n",
    "            modified_text = \"\\n\".join(line.lstrip() for line in page_text.splitlines())\n",
    "\n",
    "            extracted_text += modified_text + \"\\n\"\n",
    "\n",
    "        # Output the modified text to the specified file or print it\n",
    "        if output_file is not None:\n",
    "            with open(output_file, \"w\") as f:\n",
    "                f.write(extracted_text)\n",
    "            print(f\"Data extracted and saved to {output_file}\")\n",
    "        else:\n",
    "            print(extracted_text)\n",
    "    except Exception as e:\n",
    "        print(f\"An error occurred: {e}\")\n",
    "\n",
    "\n",
    "# Example usage:\n",
    "input_pdf = file\n",
    "page_range = (0, 4)  # Extract pages 1 to 3 (0-based index)\n",
    "output_txt = \"output.txt\"\n",
    "extract_and_remove_spaces(input_pdf, page_range, output_txt)"
   ]
  },
  {
   "cell_type": "code",
   "execution_count": 169,
   "metadata": {},
   "outputs": [
    {
     "name": "stdout",
     "output_type": "stream",
     "text": [
      "Empty lines removed from output.txt\n"
     ]
    }
   ],
   "source": [
    "def remove_empty_lines(input_file):\n",
    "    try:\n",
    "        with open(input_file, \"r\") as file:\n",
    "            lines = file.readlines()\n",
    "\n",
    "        with open(input_file, \"w\") as file:\n",
    "            for line in lines:\n",
    "                if (\n",
    "                    line.strip()\n",
    "                ):  # Check if the line is not empty after stripping whitespace\n",
    "                    file.write(line)\n",
    "\n",
    "        print(f\"Empty lines removed from {input_file}\")\n",
    "    except FileNotFoundError:\n",
    "        print(f\"File '{input_file}' not found.\")\n",
    "    except Exception as e:\n",
    "        print(f\"An error occurred: {str(e)}\")\n",
    "\n",
    "\n",
    "# Example usage:\n",
    "input_file = \"output.txt\"  # Replace with your input file path\n",
    "remove_empty_lines(input_file)"
   ]
  },
  {
   "cell_type": "code",
   "execution_count": 170,
   "metadata": {},
   "outputs": [
    {
     "name": "stdout",
     "output_type": "stream",
     "text": [
      "['SEAT', 'NO.', 'S190243002', 'NAME', 'ADMANE', 'PARTH', 'SUDHIR', 'MOTHER', 'RUPALI', 'SUDHIR', 'ADMANE', 'PRN', '72022819M', 'CLG.', 'DYPIT[24]']\n"
     ]
    }
   ],
   "source": [
    "def process_string_block(string_block):\n",
    "    # Convert the string block into a list, and remove empty strings\n",
    "    string_list = [s for s in string_block.split(\" \") if s]\n",
    "    # Remove all the \":\" characters\n",
    "    string_list = [s.replace(\":\", \"\") for s in string_list]\n",
    "    # Remove all the empty strings\n",
    "    string_list = [s for s in string_list if s]\n",
    "\n",
    "    # Check if there are at least 4 items in the list\n",
    "    if len(string_list) >= 4:\n",
    "        # Get the -4th index item\n",
    "        item_to_split = string_list[-4]\n",
    "        # Separate the last 3 digits\n",
    "        last_3_digits = item_to_split[-3:]\n",
    "        # Remove the last 3 digits from the item\n",
    "        item_without_last_3_digits = item_to_split[:-3]\n",
    "\n",
    "        # Insert the modified item back into the list at the same place\n",
    "        string_list[-4] = item_without_last_3_digits\n",
    "        # Insert the last 3 digits as a new item after the modified item\n",
    "        string_list.insert(-3, last_3_digits)\n",
    "\n",
    "    string_list = [s for s in string_list if s]\n",
    "\n",
    "    return string_list\n",
    "\n",
    "\n",
    "# Example usage:\n",
    "# string_block = \"SEAT NO.: S190243001 NAME : AASHUTOSH SANJAYRAO GUNTURKAR           MOTHER : SHITAL SANJAYRAO GUNTURKARPRN :71907142K CLG.: DYPIT[24]\"\n",
    "string_block = \"SEAT NO.: S190243002 NAME : ADMANE PARTH SUDHIR                     MOTHER : RUPALI SUDHIR ADMANE     PRN :72022819M CLG.: DYPIT[24]\"\n",
    "result_list = process_string_block(string_block)\n",
    "print(result_list)"
   ]
  },
  {
   "cell_type": "code",
   "execution_count": 171,
   "metadata": {},
   "outputs": [
    {
     "name": "stdout",
     "output_type": "stream",
     "text": [
      "['SEAT', 'NO.', 'S190243003', 'NAME', 'ALKA GUPTA', 'MOTHER', 'URMILA GUPTA', 'PRN', '72022830B', 'CLG.', 'DYPIT[24]']\n"
     ]
    }
   ],
   "source": [
    "def merge_name_mother_prn(result_list):\n",
    "    # Find the index of \"NAME\" and \"MOTHER\"\n",
    "    name_index = result_list.index(\"NAME\")\n",
    "    mother_index = result_list.index(\"MOTHER\")\n",
    "\n",
    "    # Find the indices between \"NAME\" and \"MOTHER\"\n",
    "    name_to_mother_indices = list(range(name_index + 1, mother_index))\n",
    "    name_to_mother_merged = \" \".join(result_list[i] for i in name_to_mother_indices)\n",
    "    result_list[name_index + 1 : mother_index] = [name_to_mother_merged]\n",
    "\n",
    "    mother_index = result_list.index(\"MOTHER\")\n",
    "    prn_index = result_list.index(\"PRN\")\n",
    "    mother_to_prn_indices = list(range(mother_index + 1, prn_index))\n",
    "    mother_to_prn_merged = \" \".join(result_list[i] for i in mother_to_prn_indices)\n",
    "\n",
    "    result_list[mother_index + 1 : prn_index] = [mother_to_prn_merged]\n",
    "\n",
    "    return result_list\n",
    "\n",
    "\n",
    "# Example usage:\n",
    "# string_block = \"SEAT NO.: S190243001 NAME : AASHUTOSH SANJAYRAO GUNTURKAR           MOTHER : SHITAL SANJAYRAO GUNTURKARPRN :71907142K CLG.: DYPIT[24]\"\n",
    "# string_block = \"SEAT NO.: S190243002 NAME : ADMANE PARTH SUDHIR                     MOTHER : RUPALI SUDHIR ADMANE     PRN :72022819M CLG.: DYPIT[24]\"\n",
    "string_block = \"SEAT NO.: S190243003 NAME : ALKA GUPTA                              MOTHER : URMILA GUPTA             PRN :72022830B CLG.: DYPIT[24]\"\n",
    "result_list = process_string_block(string_block)\n",
    "merged_result = merge_name_mother_prn(result_list)\n",
    "print(merged_result)"
   ]
  },
  {
   "cell_type": "code",
   "execution_count": 172,
   "metadata": {},
   "outputs": [
    {
     "data": {
      "text/html": [
       "<div>\n",
       "<style scoped>\n",
       "    .dataframe tbody tr th:only-of-type {\n",
       "        vertical-align: middle;\n",
       "    }\n",
       "\n",
       "    .dataframe tbody tr th {\n",
       "        vertical-align: top;\n",
       "    }\n",
       "\n",
       "    .dataframe thead th {\n",
       "        text-align: right;\n",
       "    }\n",
       "</style>\n",
       "<table border=\"1\" class=\"dataframe\">\n",
       "  <thead>\n",
       "    <tr style=\"text-align: right;\">\n",
       "      <th></th>\n",
       "      <th>name</th>\n",
       "      <th>mother_name</th>\n",
       "      <th>seat_number</th>\n",
       "      <th>prn_number</th>\n",
       "    </tr>\n",
       "  </thead>\n",
       "  <tbody>\n",
       "    <tr>\n",
       "      <th>0</th>\n",
       "      <td>ALKA GUPTA</td>\n",
       "      <td>URMILA GUPTA</td>\n",
       "      <td>S190243003</td>\n",
       "      <td>72022830B</td>\n",
       "    </tr>\n",
       "  </tbody>\n",
       "</table>\n",
       "</div>"
      ],
      "text/plain": [
       "         name   mother_name seat_number prn_number\n",
       "0  ALKA GUPTA  URMILA GUPTA  S190243003  72022830B"
      ]
     },
     "execution_count": 172,
     "metadata": {},
     "output_type": "execute_result"
    }
   ],
   "source": [
    "import pandas as pd\n",
    "\n",
    "\n",
    "def extract_student_info(merged_result):\n",
    "    student_info = {\n",
    "        \"name\": None,\n",
    "        \"mother_name\": None,\n",
    "        \"seat_number\": None,\n",
    "        \"prn_number\": None,\n",
    "    }\n",
    "\n",
    "    for i in range(len(merged_result)):\n",
    "        item = merged_result[i].strip()\n",
    "        if item == \"SEAT\":\n",
    "            student_info[\"seat_number\"] = merged_result[i + 2].strip()\n",
    "        elif item == \"NAME\":\n",
    "            student_info[\"name\"] = merged_result[i + 1]\n",
    "        elif item == \"MOTHER\":\n",
    "            student_info[\"mother_name\"] = merged_result[i + 1]\n",
    "        elif item == \"PRN\":\n",
    "            student_info[\"prn_number\"] = merged_result[i + 1]\n",
    "\n",
    "    return student_info\n",
    "\n",
    "\n",
    "def create_dataframe_from_list(merged_results_list):\n",
    "    data = []\n",
    "    student_info = {}\n",
    "\n",
    "    for merged_result in merged_results_list:\n",
    "        student_info.update(extract_student_info(merged_result))\n",
    "        data.append(student_info)\n",
    "        student_info = {}\n",
    "\n",
    "    # Create a DataFrame from the extracted data\n",
    "    df = pd.DataFrame(data)\n",
    "    return df\n",
    "\n",
    "\n",
    "# Example usage:\n",
    "# merged_results_list = [['SEAT', 'NO.', 'S190243001', 'NAME', 'AASHUTOSH SANJAYRAO GUNTURKAR', 'MOTHER', 'SHITAL SANJAYRAO GUNTURKAR', 'PRN', '71907142K', 'CLG.', 'DYPIT[24]']]\n",
    "\n",
    "merged_results_list = [merged_result]\n",
    "df = create_dataframe_from_list(merged_results_list)\n",
    "\n",
    "# Display the DataFrame\n",
    "df"
   ]
  },
  {
   "cell_type": "code",
   "execution_count": 173,
   "metadata": {},
   "outputs": [
    {
     "name": "stdout",
     "output_type": "stream",
     "text": [
      "['204190A', 'TECHNICAL', 'ENGLISH', 'FOR', 'ENGG.', '---', '---', '---', '---', '---', '---', 'AC', '00', 'AC', '00', '00', '---', '---']\n"
     ]
    }
   ],
   "source": [
    "# Example usage:\n",
    "# string_block = \"204181 ELECTRONIC CIRCUITS              030/030  046/070  076/100    ---      ---      ---    76   03     B   08  24  --- ---\"\n",
    "string_block1 = \"204181 ELECTRONIC CIRCUITS              030/030  046/070  076/100    ---      ---      ---    76   03     B   08  24  --- ---\"\n",
    "string_block2 = \"204185 ELECTRONIC CIRCUIT LAB             ---      ---      ---      ---    027/050    ---    54   01     D   06  06  --- ---\"\n",
    "string_block3 = \"204190A TECHNICAL ENGLISH FOR ENGG.        ---      ---      ---      ---      ---      ---    AC   00    AC   00  00  --- ---\"\n",
    "result_list = process_string_block(string_block3)\n",
    "print(result_list)"
   ]
  },
  {
   "cell_type": "code",
   "execution_count": 174,
   "metadata": {},
   "outputs": [
    {
     "name": "stdout",
     "output_type": "stream",
     "text": [
      "['204190A', 'TECHNICAL ENGLISH FOR ENGG.', '---', '---', '---', '---', '---', '---', 'AC', '00', 'AC', '00', '00', '---', '---']\n"
     ]
    }
   ],
   "source": [
    "def merge_subject_name(result_list):\n",
    "    # Index range of subject name\n",
    "    start_index=result_list[0]\n",
    "    end_index=result_list[-13]\n",
    "\n",
    "    sub_code_index = result_list.index(start_index)\n",
    "    ISE_index = result_list.index(end_index)\n",
    "\n",
    "    #Merging the subject name\n",
    "    sub_code_to_ISE_indices = list(range(sub_code_index + 1, ISE_index))\n",
    "    sub_code_to_ISE_merged = \" \".join(result_list[i] for i in sub_code_to_ISE_indices)\n",
    "    result_list[sub_code_index + 1 : ISE_index] = [sub_code_to_ISE_merged]\n",
    "\n",
    "    return result_list\n",
    "\n",
    "string_block = \"204181 ELECTRONIC CIRCUITS              030/030  046/070  076/100    ---      ---      ---    76   03     B   08  24  --- ---\"\n",
    "merged_result_list = merge_subject_name(result_list)\n",
    "print(merged_result_list)\n",
    "\n",
    "\n",
    "    "
   ]
  },
  {
   "cell_type": "code",
   "execution_count": null,
   "metadata": {},
   "outputs": [],
   "source": []
  }
 ],
 "metadata": {
  "kernelspec": {
   "display_name": ".venv",
   "language": "python",
   "name": "python3"
  },
  "language_info": {
   "codemirror_mode": {
    "name": "ipython",
    "version": 3
   },
   "file_extension": ".py",
   "mimetype": "text/x-python",
   "name": "python",
   "nbconvert_exporter": "python",
   "pygments_lexer": "ipython3",
   "version": "3.10.12"
  },
  "orig_nbformat": 4
 },
 "nbformat": 4,
 "nbformat_minor": 2
}
