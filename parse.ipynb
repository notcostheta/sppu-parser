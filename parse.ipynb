{
 "cells": [
  {
   "cell_type": "code",
   "execution_count": 1,
   "metadata": {},
   "outputs": [],
   "source": [
    "# %pip install PyPDF2"
   ]
  },
  {
   "cell_type": "code",
   "execution_count": 2,
   "metadata": {},
   "outputs": [],
   "source": [
    "from PyPDF2 import PdfReader\n",
    "import os\n",
    "import pandas as pd\n",
    "import numpy as np\n",
    "\n",
    "file = \"contents/SE Result PDF.pdf\""
   ]
  },
  {
   "cell_type": "code",
   "execution_count": 3,
   "metadata": {},
   "outputs": [],
   "source": [
    "if os.path.exists(\"ouput.txt\"):\n",
    "    os.remove(\"output.txt\")\n",
    "if os.path.exists(\"extracted_data.txt\"):\n",
    "    os.remove(\"extracted_data.txt\")"
   ]
  },
  {
   "cell_type": "code",
   "execution_count": 4,
   "metadata": {},
   "outputs": [
    {
     "name": "stdout",
     "output_type": "stream",
     "text": [
      "Data extracted and saved to output.txt\n"
     ]
    }
   ],
   "source": [
    "from PyPDF2 import PdfReader\n",
    "\n",
    "\n",
    "def extract_and_remove_spaces(file, page_range=None, output_file=None):\n",
    "    \"\"\"\n",
    "    file: input pdf file\n",
    "    page_range: a tuple (start, end) representing the range of pages to scrape,\n",
    "                or None to extract all pages\n",
    "    output_file: the output file where the modified data will be saved,\n",
    "                 or None to not save to a file\n",
    "    \"\"\"\n",
    "    try:\n",
    "        reader = PdfReader(file)\n",
    "\n",
    "        # Determine the range of pages to extract\n",
    "        if page_range is None:\n",
    "            start_page = 0\n",
    "            end_page = len(reader.pages)\n",
    "        else:\n",
    "            start_page, end_page = page_range\n",
    "\n",
    "        extracted_text = \"\"\n",
    "\n",
    "        # Extract and process pages within the specified range\n",
    "        for page_no in range(start_page, end_page):\n",
    "            page = reader.pages[page_no]\n",
    "            page_text = page.extract_text()\n",
    "\n",
    "            # Remove leading spaces until a non-space character is encountered\n",
    "            modified_text = \"\\n\".join(line.lstrip() for line in page_text.splitlines())\n",
    "\n",
    "            extracted_text += modified_text + \"\\n\"\n",
    "\n",
    "        # Output the modified text to the specified file or print it\n",
    "        if output_file is not None:\n",
    "            with open(output_file, \"w\") as f:\n",
    "                f.write(extracted_text)\n",
    "            print(f\"Data extracted and saved to {output_file}\")\n",
    "        else:\n",
    "            print(extracted_text)\n",
    "    except Exception as e:\n",
    "        print(f\"An error occurred: {e}\")\n",
    "\n",
    "\n",
    "# Example usage:\n",
    "input_pdf = file\n",
    "page_range = (0, 50)  # Extract pages 1 to 3 (0-based index)\n",
    "output_txt = \"output.txt\"\n",
    "extract_and_remove_spaces(input_pdf, page_range, output_txt)"
   ]
  },
  {
   "cell_type": "code",
   "execution_count": 5,
   "metadata": {},
   "outputs": [
    {
     "name": "stdout",
     "output_type": "stream",
     "text": [
      "Data extracted and saved to output.txt\n"
     ]
    }
   ],
   "source": [
    "from PyPDF2 import PdfReader\n",
    "\n",
    "\n",
    "def extract_and_remove_spaces(file, page_range=None, output_file=None):\n",
    "    \"\"\"\n",
    "    file: input pdf file\n",
    "    page_range: a tuple (start, end) representing the range of pages to scrape,\n",
    "                or None to extract all pages\n",
    "    output_file: the output file where the modified data will be saved,\n",
    "                 or None to not save to a file\n",
    "    \"\"\"\n",
    "    try:\n",
    "        reader = PdfReader(file)\n",
    "\n",
    "        # Determine the range of pages to extract\n",
    "        if page_range is None:\n",
    "            start_page = 0\n",
    "            end_page = len(reader.pages)\n",
    "        else:\n",
    "            start_page, end_page = page_range\n",
    "\n",
    "        extracted_text = \"\"\n",
    "\n",
    "        # Extract and process pages within the specified range\n",
    "        for page_no in range(start_page, end_page):\n",
    "            page = reader.pages[page_no]\n",
    "            page_text = page.extract_text()\n",
    "\n",
    "            # Remove leading spaces until a non-space character is encountered\n",
    "            modified_text = \"\\n\".join(line.lstrip() for line in page_text.splitlines())\n",
    "\n",
    "            extracted_text += modified_text + \"\\n\"\n",
    "\n",
    "        # Output the modified text to the specified file or print it\n",
    "        if output_file is not None:\n",
    "            with open(output_file, \"w\") as f:\n",
    "                f.write(extracted_text)\n",
    "            print(f\"Data extracted and saved to {output_file}\")\n",
    "        else:\n",
    "            print(extracted_text)\n",
    "    except Exception as e:\n",
    "        print(f\"An error occurred: {e}\")\n",
    "\n",
    "\n",
    "# Example usage:\n",
    "input_pdf = file\n",
    "page_range = (0, 4)  # Extract pages 1 to 3 (0-based index)\n",
    "output_txt = \"output.txt\"\n",
    "extract_and_remove_spaces(input_pdf, page_range, output_txt)"
   ]
  },
  {
   "cell_type": "code",
   "execution_count": 6,
   "metadata": {},
   "outputs": [
    {
     "name": "stdout",
     "output_type": "stream",
     "text": [
      "['SEAT', 'NO.', 'S190243001', 'NAME', 'AASHUTOSH', 'SANJAYRAO', 'GUNTURKAR', 'MOTHER', 'SHITAL', 'SANJAYRAO', 'GUNTURKAR', 'PRN', '71907142K', 'CLG.', 'DYPIT[24]']\n"
     ]
    }
   ],
   "source": [
    "def process_string_block(string_block):\n",
    "    # Convert the string block into a list, and remove empty strings\n",
    "    string_list = [s for s in string_block.split(\" \") if s]\n",
    "    # Remove all the \":\" characters\n",
    "    string_list = [s.replace(\":\", \"\") for s in string_list]\n",
    "    # Remove all the empty strings\n",
    "    string_list = [s for s in string_list if s]\n",
    "\n",
    "    # Check if there are at least 4 items in the list\n",
    "    if len(string_list) >= 4:\n",
    "        # Get the -4th index item\n",
    "        item_to_split = string_list[-4]\n",
    "        # Separate the last 3 digits\n",
    "        last_3_digits = item_to_split[-3:]\n",
    "        # Remove the last 3 digits from the item\n",
    "        item_without_last_3_digits = item_to_split[:-3]\n",
    "\n",
    "        # Insert the modified item back into the list at the same place\n",
    "        string_list[-4] = item_without_last_3_digits\n",
    "        # Insert the last 3 digits as a new item after the modified item\n",
    "        string_list.insert(-3, last_3_digits)\n",
    "\n",
    "    string_list = [s for s in string_list if s]\n",
    "\n",
    "    return string_list\n",
    "\n",
    "\n",
    "# Example usage:\n",
    "string_block = \"SEAT NO.: S190243001 NAME : AASHUTOSH SANJAYRAO GUNTURKAR           MOTHER : SHITAL SANJAYRAO GUNTURKARPRN :71907142K CLG.: DYPIT[24]\"\n",
    "# string_block = \"SEAT NO.: S190243002 NAME : ADMANE PARTH SUDHIR                     MOTHER : RUPALI SUDHIR ADMANE     PRN :72022819M CLG.: DYPIT[24]\"\n",
    "result_list = process_string_block(string_block)\n",
    "print(result_list)"
   ]
  },
  {
   "cell_type": "code",
   "execution_count": 7,
   "metadata": {},
   "outputs": [
    {
     "name": "stdout",
     "output_type": "stream",
     "text": [
      "['SEAT', 'NO.', 'S190243001', 'NAME', 'AASHUTOSH SANJAYRAO GUNTURKAR', 'MOTHER', 'SHITAL SANJAYRAO GUNTURKAR', 'PRN', '71907142K', 'CLG.', 'DYPIT[24]']\n"
     ]
    }
   ],
   "source": [
    "def merge_name_mother_prn(result_list):\n",
    "    # Find the index of \"NAME\" and \"MOTHER\"\n",
    "    name_index = result_list.index(\"NAME\")\n",
    "    mother_index = result_list.index(\"MOTHER\")\n",
    "\n",
    "    # Find the indices between \"NAME\" and \"MOTHER\"\n",
    "    name_to_mother_indices = list(range(name_index + 1, mother_index))\n",
    "    name_to_mother_merged = \" \".join(result_list[i] for i in name_to_mother_indices)\n",
    "    result_list[name_index + 1 : mother_index] = [name_to_mother_merged]\n",
    "\n",
    "    mother_index = result_list.index(\"MOTHER\")\n",
    "    prn_index = result_list.index(\"PRN\")\n",
    "    mother_to_prn_indices = list(range(mother_index + 1, prn_index))\n",
    "    mother_to_prn_merged = \" \".join(result_list[i] for i in mother_to_prn_indices)\n",
    "\n",
    "    result_list[mother_index + 1 : prn_index] = [mother_to_prn_merged]\n",
    "\n",
    "    return result_list\n",
    "\n",
    "\n",
    "# Example usage:\n",
    "string_block = \"SEAT NO.: S190243001 NAME : AASHUTOSH SANJAYRAO GUNTURKAR           MOTHER : SHITAL SANJAYRAO GUNTURKARPRN :71907142K CLG.: DYPIT[24]\"\n",
    "# string_block = \"SEAT NO.: S190243002 NAME : ADMANE PARTH SUDHIR                     MOTHER : RUPALI SUDHIR ADMANE     PRN :72022819M CLG.: DYPIT[24]\"\n",
    "# string_block = \"SEAT NO.: S190243003 NAME : ALKA GUPTA                              MOTHER : URMILA GUPTA             PRN :72022830B CLG.: DYPIT[24]\"\n",
    "result_list = process_string_block(string_block)\n",
    "merged_result = merge_name_mother_prn(result_list)\n",
    "print(merged_result)"
   ]
  },
  {
   "cell_type": "code",
   "execution_count": 8,
   "metadata": {},
   "outputs": [
    {
     "data": {
      "text/html": [
       "<div>\n",
       "<style scoped>\n",
       "    .dataframe tbody tr th:only-of-type {\n",
       "        vertical-align: middle;\n",
       "    }\n",
       "\n",
       "    .dataframe tbody tr th {\n",
       "        vertical-align: top;\n",
       "    }\n",
       "\n",
       "    .dataframe thead th {\n",
       "        text-align: right;\n",
       "    }\n",
       "</style>\n",
       "<table border=\"1\" class=\"dataframe\">\n",
       "  <thead>\n",
       "    <tr style=\"text-align: right;\">\n",
       "      <th></th>\n",
       "      <th>name</th>\n",
       "      <th>mother</th>\n",
       "      <th>seat_no</th>\n",
       "      <th>prn</th>\n",
       "    </tr>\n",
       "  </thead>\n",
       "  <tbody>\n",
       "    <tr>\n",
       "      <th>0</th>\n",
       "      <td>AASHUTOSH SANJAYRAO GUNTURKAR</td>\n",
       "      <td>SHITAL SANJAYRAO GUNTURKAR</td>\n",
       "      <td>S190243001</td>\n",
       "      <td>71907142K</td>\n",
       "    </tr>\n",
       "  </tbody>\n",
       "</table>\n",
       "</div>"
      ],
      "text/plain": [
       "                            name                      mother     seat_no  \\\n",
       "0  AASHUTOSH SANJAYRAO GUNTURKAR  SHITAL SANJAYRAO GUNTURKAR  S190243001   \n",
       "\n",
       "         prn  \n",
       "0  71907142K  "
      ]
     },
     "execution_count": 8,
     "metadata": {},
     "output_type": "execute_result"
    }
   ],
   "source": [
    "import pandas as pd\n",
    "\n",
    "\n",
    "def extract_student_info(merged_result):\n",
    "    student_info = {\n",
    "        \"name\": None,\n",
    "        \"mother\": None,\n",
    "        \"seat_no\": None,\n",
    "        \"prn\": None,\n",
    "    }\n",
    "\n",
    "    for i in range(len(merged_result)):\n",
    "        item = merged_result[i].strip()\n",
    "        if item == \"SEAT\":\n",
    "            student_info[\"seat_no\"] = merged_result[i + 2].strip()\n",
    "        elif item == \"NAME\":\n",
    "            student_info[\"name\"] = merged_result[i + 1]\n",
    "        elif item == \"MOTHER\":\n",
    "            student_info[\"mother\"] = merged_result[i + 1]\n",
    "        elif item == \"PRN\":\n",
    "            student_info[\"prn\"] = merged_result[i + 1]\n",
    "\n",
    "    return student_info\n",
    "\n",
    "\n",
    "def create_dataframe_from_list(merged_results_list):\n",
    "    data = []\n",
    "    student_info = {}\n",
    "\n",
    "    for merged_result in merged_results_list:\n",
    "        student_info.update(extract_student_info(merged_result))\n",
    "        data.append(student_info)\n",
    "        student_info = {}\n",
    "\n",
    "    # Create a DataFrame from the extracted data\n",
    "    df = pd.DataFrame(data)\n",
    "    return df\n",
    "\n",
    "\n",
    "# Example usage:\n",
    "# merged_results_list = [['SEAT', 'NO.', 'S190243001', 'NAME', 'AASHUTOSH SANJAYRAO GUNTURKAR', 'MOTHER', 'SHITAL SANJAYRAO GUNTURKAR', 'PRN', '71907142K', 'CLG.', 'DYPIT[24]']]\n",
    "\n",
    "merged_results_list = [merged_result]\n",
    "df = create_dataframe_from_list(merged_results_list)\n",
    "\n",
    "# Display the DataFrame\n",
    "df"
   ]
  },
  {
   "cell_type": "code",
   "execution_count": 9,
   "metadata": {},
   "outputs": [
    {
     "name": "stdout",
     "output_type": "stream",
     "text": [
      "['204195', 'SIGNALS', '&', 'CONTROL', 'SYSTEM', 'LAB', '---', '---', '---', '043/050', '---', '---', '86', '01', 'A', '09', '09', '---', '---']\n"
     ]
    }
   ],
   "source": [
    "# Example usage:\n",
    "# string_block = \"204181 ELECTRONIC CIRCUITS              030/030  046/070  076/100    ---      ---      ---    76   03     B   08  24  --- ---\"\n",
    "string_block1 = \"204181 ELECTRONIC CIRCUITS              030/030  046/070  076/100    ---      ---      ---    76   03     B   08  24  --- ---\"\n",
    "string_block2 = \"204185 ELECTRONIC CIRCUIT LAB             ---      ---      ---      ---    027/050    ---    54   01     D   06  06  --- ---\"\n",
    "string_block3 = \"204195 SIGNALS & CONTROL SYSTEM LAB      ---      ---      ---    043/050    ---      ---    86   01     A   09  09  --- ---\"\n",
    "result_list = process_string_block(string_block3)\n",
    "print(result_list)"
   ]
  },
  {
   "cell_type": "code",
   "execution_count": 10,
   "metadata": {},
   "outputs": [
    {
     "name": "stdout",
     "output_type": "stream",
     "text": [
      "['204195', 'SIGNALS & CONTROL SYSTEM LAB', '---', '---', '---', '043/050', '---', '---', '86', '01', 'A', '09', '09', '---', '---']\n"
     ]
    }
   ],
   "source": [
    "def merge_subject_name(string_block):\n",
    "    # count the index of the list\n",
    "    def count_index(string_block):\n",
    "        count = 0\n",
    "        for i in string_block:\n",
    "            count = count + 1\n",
    "        return count\n",
    "    if count_index(string_block) == 16:\n",
    "        #merge index 1 and 2 with a space in between and remove index 2\n",
    "        string_block[1] = string_block[1] + \" \" + string_block[2]\n",
    "        del string_block[2]\n",
    "        print(string_block)\n",
    "    elif count_index(string_block) ==17:\n",
    "        #merge index 1,2 and 3 with a space in between and remove index 2 and 3\n",
    "        string_block[1] = string_block[1] + \" \" + string_block[2] + \" \" + string_block[3]\n",
    "        del string_block[2]\n",
    "        del string_block[2]\n",
    "    elif count_index(string_block) == 18:\n",
    "        #merge index 1,2,3 and 4 with a space in between and remove index 2,3 and 4\n",
    "        string_block[1] = string_block[1] + \" \" + string_block[2] + \" \" + string_block[3] + \" \" + string_block[4]\n",
    "        del string_block[2]\n",
    "        del string_block[2]\n",
    "        del string_block[2]\n",
    "    elif count_index(string_block) == 19:\n",
    "        #merge index 1,2,3,4 and 5 with a space in between and remove index 2,3,4 and 5\n",
    "        string_block[1] = string_block[1] + \" \" + string_block[2] + \" \" + string_block[3] + \" \" + string_block[4] + \" \" + string_block[5]\n",
    "        del string_block[2]\n",
    "        del string_block[2]\n",
    "        del string_block[2]\n",
    "        del string_block[2]\n",
    "        \n",
    "    return string_block\n",
    "\n",
    "string_block = \"204193 PRINCIPLES OF COMMU. SYSTEMS   * 030/030  069/070  099/100    ---      ---      ---    99   03     O   10  30  --- ---\"\n",
    "universal =[]\n",
    "\n",
    "\n",
    "merged_result_list = merge_subject_name(result_list)\n",
    "print(merged_result_list)"
   ]
  },
  {
   "cell_type": "code",
   "execution_count": 11,
   "metadata": {},
   "outputs": [],
   "source": [
    "# read output.txt file and delete all lines staring with \"COURSE NAME\"\n",
    "with open(\"output.txt\", \"r\") as f:\n",
    "    lines = f.readlines()\n",
    "    with open(\"extracted_data.txt\", \"w\") as f:\n",
    "        for line in lines:\n",
    "            if not line.startswith(\"COURSE NAME\"):\n",
    "                f.write(line)"
   ]
  },
  {
   "cell_type": "code",
   "execution_count": 12,
   "metadata": {},
   "outputs": [
    {
     "data": {
      "text/plain": [
       "{'sgpa': '9.32', 'credits': '44'}"
      ]
     },
     "execution_count": 12,
     "metadata": {},
     "output_type": "execute_result"
    }
   ],
   "source": [
    "def parse_gpa_text(gpa_text):\n",
    "    gpa_text_list = gpa_text.split(\",\")\n",
    "    gpa_text_list = [s.strip() for s in gpa_text_list]\n",
    "    gpa_text_list = [s.replace(\":\", \"\") for s in gpa_text_list]\n",
    "    gpa_text_list = [s.split(\" \") for s in gpa_text_list]\n",
    "    gpa_text_list = [s for sublist in gpa_text_list for s in sublist]\n",
    "    gpa_text_list = [s for s in gpa_text_list if s]\n",
    "\n",
    "    gpa_dict = {}\n",
    "    sgpa = gpa_text_list[3]\n",
    "    credits = gpa_text_list[-1]\n",
    "    gpa_dict[\"sgpa\"] = sgpa\n",
    "    gpa_dict[\"credits\"] = credits\n",
    "\n",
    "    return gpa_dict\n",
    "\n",
    "gpa_text = '''FIRST YEAR SGPA : 9.32, TOTAL CREDITS EARNED : 44'''\n",
    "gpa_dict = parse_gpa_text(gpa_text)\n",
    "gpa_dict"
   ]
  },
  {
   "cell_type": "code",
   "execution_count": 13,
   "metadata": {},
   "outputs": [],
   "source": [
    "blocks = []\n",
    "with open('extracted_data.txt', 'r') as file:\n",
    "    block = []\n",
    "    for line in file:\n",
    "        if line.startswith('SEAT'):\n",
    "            block = [line]\n",
    "        elif line.startswith('FIRST'):\n",
    "            block.append(line)\n",
    "            blocks.append(''.join(block))\n",
    "            block = []\n",
    "        else:\n",
    "            block.append(line)\n",
    "\n",
    "# print each block on a new line\n",
    "# for block in blocks:\n",
    "#     print(block)"
   ]
  },
  {
   "cell_type": "code",
   "execution_count": 14,
   "metadata": {},
   "outputs": [
    {
     "name": "stdout",
     "output_type": "stream",
     "text": [
      "SEAT NO.: S190243003 NAME : ALKA GUPTA                              MOTHER : URMILA GUPTA             PRN :72022830B CLG.: DYPIT[24]\n",
      "SEM.:1       ............                  .......  .......  .......  .......  .......  .......  ...  ...  ...  ... ...  ... ...\n",
      "204181 ELECTRONIC CIRCUITS              030/030  053/070  083/100    ---      ---      ---    83   03     A   09  27  --- ---\n",
      "204182 DIGITAL CIRCUITS                 030/030  064/070  094/100    ---      ---      ---    94   03     O   10  30  --- ---\n",
      "204183 ELECTRICAL CIRCUITS              030/030  070/070  100/100    ---      ---      ---   100   03     O   10  30  --- ---\n",
      "204184 DATA STRUCTURES                  030/030  070/070  100/100    ---      ---      ---   100   03     O   10  30  --- ---\n",
      "204185 ELECTRONIC CIRCUIT LAB             ---      ---      ---      ---    038/050    ---    76   01     B   08  08  --- ---\n",
      "204186 DIGITAL CIRCUITS LAB               ---      ---      ---      ---    045/050    ---    90   01     O   10  10  --- ---\n",
      "204187 ELECTRICAL CIRCUIT LAB             ---      ---      ---    023/025    ---      ---    92   01     O   10  10  --- ---\n",
      "204188 DATA STRUCTURES LAB                ---      ---      ---      ---      ---    021/025  84   01     A   09  09  --- ---\n",
      "204189 ELECTRONIC SKILL DEVELOPMENT       ---      ---      ---    023/025    ---      ---    92   01     O   10  10  --- ---\n",
      "207005 ENGINEERING MATHEMATICS III      030/030  038/070  068/100    ---      ---      ---    68   04     C   07  28  --- ---\n",
      "207005 ENGINEERING MATHEMATICS III        ---      ---      ---    024/025    ---      ---    96   01     O   10  10  --- ---\n",
      "204190A TECHNICAL ENGLISH FOR ENGG.        ---      ---      ---      ---      ---      ---    AC   00    AC   00  00  --- ---\n",
      "\n",
      "SEM.:2\n",
      "204191 SIGNALS & SYSTEMS              * 028/030  070/070  098/100    ---      ---      ---    98   03     O   10  30  --- ---\n",
      "204191 SIGNALS & SYSTEMS              *   ---      ---      ---    023/025    ---      ---    92   01     O   10  10  --- ---\n",
      "204192 CONTROL SYSTEMS                * 030/030  070/070  100/100    ---      ---      ---   100   03     O   10  30  --- ---\n",
      "204193 PRINCIPLES OF COMMU. SYSTEMS   * 030/030  070/070  100/100    ---      ---      ---   100   03     O   10  30  --- ---\n",
      "204194 OBJECT ORIENTED PROGRAMMING    * 030/030  070/070  100/100    ---      ---      ---   100   03     O   10  30  --- ---\n",
      "204195 SIGNALS & CONTROL SYSTEM LAB   *   ---      ---      ---    046/050    ---      ---    92   01     O   10  10  --- ---\n",
      "204196 PRINCIPLE OF COMMU. SYS. LAB   *   ---      ---      ---      ---    041/050    ---    82   01     A   09  09  --- ---\n",
      "204197 OOPS LAB                       *   ---      ---      ---      ---      ---    042/050  84   01     A   09  09  --- ---\n",
      "204198 DATA ANALYTICS LAB             *   ---      ---      ---      ---      ---    021/025  84   01     A   09  09  --- ---\n",
      "204199 EMPLOYABILITY SKILL DEV.       *   ---      ---      ---    046/050    ---      ---    92   03     O   10  30  --- ---\n",
      "204200 PROJECT BASED LEARNING         *   ---      ---      ---    046/050    ---      ---    92   02     O   10  20  --- ---\n",
      "204201C EMOTIONAL INTELLIGENCE         *   ---      ---      ---      ---      ---      ---    AC   00    AC   00  00  --- ---\n",
      "FIRST YEAR SGPA : 9.52, TOTAL CREDITS EARNED : 44\n",
      "\n"
     ]
    }
   ],
   "source": [
    "second_block = blocks[2]\n",
    "print(second_block)"
   ]
  },
  {
   "cell_type": "code",
   "execution_count": 15,
   "metadata": {},
   "outputs": [
    {
     "data": {
      "text/plain": [
       "''"
      ]
     },
     "execution_count": 15,
     "metadata": {},
     "output_type": "execute_result"
    }
   ],
   "source": [
    "def split_semesters(text):\n",
    "    sem_start_indices = [i for i, line in enumerate(text.split('\\n')) if line.strip().startswith('SEM.:')]\n",
    "    sem_start_indices.append(None)  # add sentinel to handle last chunk\n",
    "    semesters = [text.split('\\n')[sem_start_indices[i]:sem_start_indices[i+1]] for i in range(len(sem_start_indices)-1)]\n",
    "    return semesters\n",
    "\n",
    "\n",
    "semesters = split_semesters(second_block)\n",
    "semesters[0].pop(-1)\n",
    "semesters[1].pop(-1)\n"
   ]
  },
  {
   "cell_type": "code",
   "execution_count": 16,
   "metadata": {},
   "outputs": [
    {
     "data": {
      "text/plain": [
       "['SEM.:1       ............                  .......  .......  .......  .......  .......  .......  ...  ...  ...  ... ...  ... ...',\n",
       " '204181 ELECTRONIC CIRCUITS              030/030  053/070  083/100    ---      ---      ---    83   03     A   09  27  --- ---',\n",
       " '204182 DIGITAL CIRCUITS                 030/030  064/070  094/100    ---      ---      ---    94   03     O   10  30  --- ---',\n",
       " '204183 ELECTRICAL CIRCUITS              030/030  070/070  100/100    ---      ---      ---   100   03     O   10  30  --- ---',\n",
       " '204184 DATA STRUCTURES                  030/030  070/070  100/100    ---      ---      ---   100   03     O   10  30  --- ---',\n",
       " '204185 ELECTRONIC CIRCUIT LAB             ---      ---      ---      ---    038/050    ---    76   01     B   08  08  --- ---',\n",
       " '204186 DIGITAL CIRCUITS LAB               ---      ---      ---      ---    045/050    ---    90   01     O   10  10  --- ---',\n",
       " '204187 ELECTRICAL CIRCUIT LAB             ---      ---      ---    023/025    ---      ---    92   01     O   10  10  --- ---',\n",
       " '204188 DATA STRUCTURES LAB                ---      ---      ---      ---      ---    021/025  84   01     A   09  09  --- ---',\n",
       " '204189 ELECTRONIC SKILL DEVELOPMENT       ---      ---      ---    023/025    ---      ---    92   01     O   10  10  --- ---',\n",
       " '207005 ENGINEERING MATHEMATICS III      030/030  038/070  068/100    ---      ---      ---    68   04     C   07  28  --- ---',\n",
       " '207005 ENGINEERING MATHEMATICS III        ---      ---      ---    024/025    ---      ---    96   01     O   10  10  --- ---',\n",
       " '204190A TECHNICAL ENGLISH FOR ENGG.        ---      ---      ---      ---      ---      ---    AC   00    AC   00  00  --- ---']"
      ]
     },
     "execution_count": 16,
     "metadata": {},
     "output_type": "execute_result"
    }
   ],
   "source": [
    "semesters[0]"
   ]
  },
  {
   "cell_type": "code",
   "execution_count": 17,
   "metadata": {},
   "outputs": [
    {
     "name": "stdout",
     "output_type": "stream",
     "text": [
      "13\n",
      "14\n"
     ]
    }
   ],
   "source": [
    "print(len(semesters[0]))\n",
    "print(len(semesters[1]))"
   ]
  },
  {
   "cell_type": "code",
   "execution_count": 18,
   "metadata": {},
   "outputs": [
    {
     "name": "stdout",
     "output_type": "stream",
     "text": [
      "204201C EMOTIONAL INTELLIGENCE         *   ---      ---      ---      ---      ---      ---    AC   00    AC   00  00  --- ---\n"
     ]
    }
   ],
   "source": [
    "print(semesters[1][-2])"
   ]
  },
  {
   "cell_type": "code",
   "execution_count": 19,
   "metadata": {},
   "outputs": [
    {
     "data": {
      "text/plain": [
       "{'name': 'ALKA GUPTA',\n",
       " 'mother': 'URMILA GUPTA',\n",
       " 'seat_no': 'S190243003',\n",
       " 'prn': '72022830B'}"
      ]
     },
     "execution_count": 19,
     "metadata": {},
     "output_type": "execute_result"
    }
   ],
   "source": [
    "block_buffer = second_block.split('\\n')[0]\n",
    "extract_student_info(merge_name_mother_prn(process_string_block(block_buffer)))"
   ]
  },
  {
   "cell_type": "code",
   "execution_count": 20,
   "metadata": {},
   "outputs": [
    {
     "data": {
      "text/plain": [
       "['SEM.:1       ............                  .......  .......  .......  .......  .......  .......  ...  ...  ...  ... ...  ... ...',\n",
       " '204181 ELECTRONIC CIRCUITS              030/030  053/070  083/100    ---      ---      ---    83   03     A   09  27  --- ---',\n",
       " '204182 DIGITAL CIRCUITS                 030/030  064/070  094/100    ---      ---      ---    94   03     O   10  30  --- ---',\n",
       " '204183 ELECTRICAL CIRCUITS              030/030  070/070  100/100    ---      ---      ---   100   03     O   10  30  --- ---',\n",
       " '204184 DATA STRUCTURES                  030/030  070/070  100/100    ---      ---      ---   100   03     O   10  30  --- ---',\n",
       " '204185 ELECTRONIC CIRCUIT LAB             ---      ---      ---      ---    038/050    ---    76   01     B   08  08  --- ---',\n",
       " '204186 DIGITAL CIRCUITS LAB               ---      ---      ---      ---    045/050    ---    90   01     O   10  10  --- ---',\n",
       " '204187 ELECTRICAL CIRCUIT LAB             ---      ---      ---    023/025    ---      ---    92   01     O   10  10  --- ---',\n",
       " '204188 DATA STRUCTURES LAB                ---      ---      ---      ---      ---    021/025  84   01     A   09  09  --- ---',\n",
       " '204189 ELECTRONIC SKILL DEVELOPMENT       ---      ---      ---    023/025    ---      ---    92   01     O   10  10  --- ---',\n",
       " '207005 ENGINEERING MATHEMATICS III      030/030  038/070  068/100    ---      ---      ---    68   04     C   07  28  --- ---',\n",
       " '207005 ENGINEERING MATHEMATICS III        ---      ---      ---    024/025    ---      ---    96   01     O   10  10  --- ---',\n",
       " '204190A TECHNICAL ENGLISH FOR ENGG.        ---      ---      ---      ---      ---      ---    AC   00    AC   00  00  --- ---']"
      ]
     },
     "execution_count": 20,
     "metadata": {},
     "output_type": "execute_result"
    }
   ],
   "source": [
    "semesters[0]"
   ]
  },
  {
   "cell_type": "code",
   "execution_count": 21,
   "metadata": {},
   "outputs": [
    {
     "name": "stdout",
     "output_type": "stream",
     "text": [
      "['204181', 'ELECTRONIC CIRCUITS', '030/030', '053/070', '083/100', '---', '---', '---', '83', '03', 'A', '09', '27', '---', '---']\n",
      "['204182', 'DIGITAL CIRCUITS', '030/030', '064/070', '094/100', '---', '---', '---', '94', '03', 'O', '10', '30', '---', '---']\n",
      "['204183', 'ELECTRICAL CIRCUITS', '030/030', '070/070', '100/100', '---', '---', '---', '100', '03', 'O', '10', '30', '---', '---']\n",
      "['204184', 'DATA STRUCTURES', '030/030', '070/070', '100/100', '---', '---', '---', '100', '03', 'O', '10', '30', '---', '---']\n"
     ]
    }
   ],
   "source": [
    "def process_semesters_block(semesters_block):\n",
    "    return [merge_subject_name(process_string_block(line)) for line in semesters_block]\n",
    "\n",
    "semester_one = process_semesters_block(semesters[0])\n"
   ]
  },
  {
   "cell_type": "code",
   "execution_count": 22,
   "metadata": {},
   "outputs": [],
   "source": [
    "def process_semesters_block_2(semesters_block):\n",
    "    return [merge_subject_name(process_string_block(line)) for line in semesters_block]"
   ]
  },
  {
   "cell_type": "code",
   "execution_count": 23,
   "metadata": {},
   "outputs": [
    {
     "data": {
      "text/plain": [
       "['SEM.:2',\n",
       " '204191 SIGNALS & SYSTEMS               028/030  070/070  098/100    ---      ---      ---    98   03     O   10  30  --- ---',\n",
       " '204191 SIGNALS & SYSTEMS                 ---      ---      ---    023/025    ---      ---    92   01     O   10  10  --- ---',\n",
       " '204192 CONTROL SYSTEMS                 030/030  070/070  100/100    ---      ---      ---   100   03     O   10  30  --- ---',\n",
       " '204193 PRINCIPLES OF COMMU. SYSTEMS    030/030  070/070  100/100    ---      ---      ---   100   03     O   10  30  --- ---',\n",
       " '204194 OBJECT ORIENTED PROGRAMMING     030/030  070/070  100/100    ---      ---      ---   100   03     O   10  30  --- ---',\n",
       " '204195 SIGNALS & CONTROL SYSTEM LAB      ---      ---      ---    046/050    ---      ---    92   01     O   10  10  --- ---',\n",
       " '204196 PRINCIPLE OF COMMU. SYS. LAB      ---      ---      ---      ---    041/050    ---    82   01     A   09  09  --- ---',\n",
       " '204197 OOPS LAB                          ---      ---      ---      ---      ---    042/050  84   01     A   09  09  --- ---',\n",
       " '204198 DATA ANALYTICS LAB                ---      ---      ---      ---      ---    021/025  84   01     A   09  09  --- ---',\n",
       " '204199 EMPLOYABILITY SKILL DEV.          ---      ---      ---    046/050    ---      ---    92   03     O   10  30  --- ---',\n",
       " '204200 PROJECT BASED LEARNING            ---      ---      ---    046/050    ---      ---    92   02     O   10  20  --- ---',\n",
       " '204201C EMOTIONAL INTELLIGENCE            ---      ---      ---      ---      ---      ---    AC   00    AC   00  00  --- ---',\n",
       " 'FIRST YEAR SGPA : 9.52, TOTAL CREDITS EARNED : 44']"
      ]
     },
     "execution_count": 23,
     "metadata": {},
     "output_type": "execute_result"
    }
   ],
   "source": [
    "semesters[1]\n",
    "# go through each item of the list and remove the first occurence of \"*\" from the string\n",
    "for i in range(len(semesters[1])):\n",
    "    semesters[1][i] = semesters[1][i].replace(\"*\", \"\", 1)\n",
    "    \n",
    "semesters[1]"
   ]
  },
  {
   "cell_type": "code",
   "execution_count": 24,
   "metadata": {},
   "outputs": [
    {
     "name": "stdout",
     "output_type": "stream",
     "text": [
      "['204192', 'CONTROL SYSTEMS', '030/030', '070/070', '100/100', '---', '---', '---', '100', '03', 'O', '10', '30', '---', '---']\n",
      "['204197', 'OOPS LAB', '---', '---', '---', '---', '---', '042/050', '84', '01', 'A', '09', '09', '---', '---']\n",
      "['204201C', 'EMOTIONAL INTELLIGENCE', '---', '---', '---', '---', '---', '---', 'AC', '00', 'AC', '00', '00', '---', '---']\n"
     ]
    },
    {
     "data": {
      "text/plain": [
       "['FIRST', 'YEAR', 'SGPA', '9.52,', 'TO', 'TAL', 'CREDITS', 'EARNED', '44']"
      ]
     },
     "execution_count": 24,
     "metadata": {},
     "output_type": "execute_result"
    }
   ],
   "source": [
    "semester_two = process_semesters_block(semesters[1])\n",
    "semester_one.pop(0)\n",
    "semester_two.pop(0)\n",
    "semester_two.pop(-1)"
   ]
  },
  {
   "cell_type": "code",
   "execution_count": 25,
   "metadata": {},
   "outputs": [],
   "source": [
    "def process_subjects(semester_one):\n",
    "    subjects = []\n",
    "\n",
    "    for subject_info in semester_one:\n",
    "        subject_dict = {\n",
    "            \"subject_code\": subject_info[0],\n",
    "            \"subject_name\": subject_info[1],\n",
    "            \"ise\": subject_info[2],\n",
    "            \"ese\": subject_info[3],\n",
    "            \"total\": subject_info[4],\n",
    "            \"tw\": subject_info[5],\n",
    "            \"pr\": subject_info[6],\n",
    "            \"or\": subject_info[7],\n",
    "            \"tot%\": subject_info[8],\n",
    "            \"crd\": subject_info[9],\n",
    "            \"grd\": subject_info[10],\n",
    "            \"gp\": subject_info[11],\n",
    "            \"cp\": subject_info[12],\n",
    "            \"p&r\": subject_info[13],\n",
    "            \"ord\": subject_info[14]\n",
    "        }\n",
    "        subjects.append(subject_dict)\n",
    "    return subjects\n",
    "\n",
    "subjects_sem_1 = process_subjects(semester_one)\n",
    "subjects_sem_2 = process_subjects(semester_two)"
   ]
  },
  {
   "cell_type": "code",
   "execution_count": 26,
   "metadata": {},
   "outputs": [
    {
     "data": {
      "text/plain": [
       "[{'subject_code': '204181',\n",
       "  'subject_name': 'ELECTRONIC CIRCUITS',\n",
       "  'ise': '030/030',\n",
       "  'ese': '053/070',\n",
       "  'total': '083/100',\n",
       "  'tw': '---',\n",
       "  'pr': '---',\n",
       "  'or': '---',\n",
       "  'tot%': '83',\n",
       "  'crd': '03',\n",
       "  'grd': 'A',\n",
       "  'gp': '09',\n",
       "  'cp': '27',\n",
       "  'p&r': '---',\n",
       "  'ord': '---'},\n",
       " {'subject_code': '204182',\n",
       "  'subject_name': 'DIGITAL CIRCUITS',\n",
       "  'ise': '030/030',\n",
       "  'ese': '064/070',\n",
       "  'total': '094/100',\n",
       "  'tw': '---',\n",
       "  'pr': '---',\n",
       "  'or': '---',\n",
       "  'tot%': '94',\n",
       "  'crd': '03',\n",
       "  'grd': 'O',\n",
       "  'gp': '10',\n",
       "  'cp': '30',\n",
       "  'p&r': '---',\n",
       "  'ord': '---'},\n",
       " {'subject_code': '204183',\n",
       "  'subject_name': 'ELECTRICAL CIRCUITS',\n",
       "  'ise': '030/030',\n",
       "  'ese': '070/070',\n",
       "  'total': '100/100',\n",
       "  'tw': '---',\n",
       "  'pr': '---',\n",
       "  'or': '---',\n",
       "  'tot%': '100',\n",
       "  'crd': '03',\n",
       "  'grd': 'O',\n",
       "  'gp': '10',\n",
       "  'cp': '30',\n",
       "  'p&r': '---',\n",
       "  'ord': '---'},\n",
       " {'subject_code': '204184',\n",
       "  'subject_name': 'DATA STRUCTURES',\n",
       "  'ise': '030/030',\n",
       "  'ese': '070/070',\n",
       "  'total': '100/100',\n",
       "  'tw': '---',\n",
       "  'pr': '---',\n",
       "  'or': '---',\n",
       "  'tot%': '100',\n",
       "  'crd': '03',\n",
       "  'grd': 'O',\n",
       "  'gp': '10',\n",
       "  'cp': '30',\n",
       "  'p&r': '---',\n",
       "  'ord': '---'},\n",
       " {'subject_code': '204185',\n",
       "  'subject_name': 'ELECTRONIC CIRCUIT LAB',\n",
       "  'ise': '---',\n",
       "  'ese': '---',\n",
       "  'total': '---',\n",
       "  'tw': '---',\n",
       "  'pr': '038/050',\n",
       "  'or': '---',\n",
       "  'tot%': '76',\n",
       "  'crd': '01',\n",
       "  'grd': 'B',\n",
       "  'gp': '08',\n",
       "  'cp': '08',\n",
       "  'p&r': '---',\n",
       "  'ord': '---'},\n",
       " {'subject_code': '204186',\n",
       "  'subject_name': 'DIGITAL CIRCUITS LAB',\n",
       "  'ise': '---',\n",
       "  'ese': '---',\n",
       "  'total': '---',\n",
       "  'tw': '---',\n",
       "  'pr': '045/050',\n",
       "  'or': '---',\n",
       "  'tot%': '90',\n",
       "  'crd': '01',\n",
       "  'grd': 'O',\n",
       "  'gp': '10',\n",
       "  'cp': '10',\n",
       "  'p&r': '---',\n",
       "  'ord': '---'},\n",
       " {'subject_code': '204187',\n",
       "  'subject_name': 'ELECTRICAL CIRCUIT LAB',\n",
       "  'ise': '---',\n",
       "  'ese': '---',\n",
       "  'total': '---',\n",
       "  'tw': '023/025',\n",
       "  'pr': '---',\n",
       "  'or': '---',\n",
       "  'tot%': '92',\n",
       "  'crd': '01',\n",
       "  'grd': 'O',\n",
       "  'gp': '10',\n",
       "  'cp': '10',\n",
       "  'p&r': '---',\n",
       "  'ord': '---'},\n",
       " {'subject_code': '204188',\n",
       "  'subject_name': 'DATA STRUCTURES LAB',\n",
       "  'ise': '---',\n",
       "  'ese': '---',\n",
       "  'total': '---',\n",
       "  'tw': '---',\n",
       "  'pr': '---',\n",
       "  'or': '021/025',\n",
       "  'tot%': '84',\n",
       "  'crd': '01',\n",
       "  'grd': 'A',\n",
       "  'gp': '09',\n",
       "  'cp': '09',\n",
       "  'p&r': '---',\n",
       "  'ord': '---'},\n",
       " {'subject_code': '204189',\n",
       "  'subject_name': 'ELECTRONIC SKILL DEVELOPMENT',\n",
       "  'ise': '---',\n",
       "  'ese': '---',\n",
       "  'total': '---',\n",
       "  'tw': '023/025',\n",
       "  'pr': '---',\n",
       "  'or': '---',\n",
       "  'tot%': '92',\n",
       "  'crd': '01',\n",
       "  'grd': 'O',\n",
       "  'gp': '10',\n",
       "  'cp': '10',\n",
       "  'p&r': '---',\n",
       "  'ord': '---'},\n",
       " {'subject_code': '207005',\n",
       "  'subject_name': 'ENGINEERING MATHEMATICS III',\n",
       "  'ise': '030/030',\n",
       "  'ese': '038/070',\n",
       "  'total': '068/100',\n",
       "  'tw': '---',\n",
       "  'pr': '---',\n",
       "  'or': '---',\n",
       "  'tot%': '68',\n",
       "  'crd': '04',\n",
       "  'grd': 'C',\n",
       "  'gp': '07',\n",
       "  'cp': '28',\n",
       "  'p&r': '---',\n",
       "  'ord': '---'},\n",
       " {'subject_code': '207005',\n",
       "  'subject_name': 'ENGINEERING MATHEMATICS III',\n",
       "  'ise': '---',\n",
       "  'ese': '---',\n",
       "  'total': '---',\n",
       "  'tw': '024/025',\n",
       "  'pr': '---',\n",
       "  'or': '---',\n",
       "  'tot%': '96',\n",
       "  'crd': '01',\n",
       "  'grd': 'O',\n",
       "  'gp': '10',\n",
       "  'cp': '10',\n",
       "  'p&r': '---',\n",
       "  'ord': '---'},\n",
       " {'subject_code': '204190A',\n",
       "  'subject_name': 'TECHNICAL ENGLISH FOR ENGG.',\n",
       "  'ise': '---',\n",
       "  'ese': '---',\n",
       "  'total': '---',\n",
       "  'tw': '---',\n",
       "  'pr': '---',\n",
       "  'or': '---',\n",
       "  'tot%': 'AC',\n",
       "  'crd': '00',\n",
       "  'grd': 'AC',\n",
       "  'gp': '00',\n",
       "  'cp': '00',\n",
       "  'p&r': '---',\n",
       "  'ord': '---'}]"
      ]
     },
     "execution_count": 26,
     "metadata": {},
     "output_type": "execute_result"
    }
   ],
   "source": [
    "subjects_sem_1"
   ]
  },
  {
   "cell_type": "code",
   "execution_count": 27,
   "metadata": {},
   "outputs": [
    {
     "data": {
      "text/plain": [
       "[{'subject_code': '204191',\n",
       "  'subject_name': 'SIGNALS & SYSTEMS',\n",
       "  'ise': '028/030',\n",
       "  'ese': '070/070',\n",
       "  'total': '098/100',\n",
       "  'tw': '---',\n",
       "  'pr': '---',\n",
       "  'or': '---',\n",
       "  'tot%': '98',\n",
       "  'crd': '03',\n",
       "  'grd': 'O',\n",
       "  'gp': '10',\n",
       "  'cp': '30',\n",
       "  'p&r': '---',\n",
       "  'ord': '---'},\n",
       " {'subject_code': '204191',\n",
       "  'subject_name': 'SIGNALS & SYSTEMS',\n",
       "  'ise': '---',\n",
       "  'ese': '---',\n",
       "  'total': '---',\n",
       "  'tw': '023/025',\n",
       "  'pr': '---',\n",
       "  'or': '---',\n",
       "  'tot%': '92',\n",
       "  'crd': '01',\n",
       "  'grd': 'O',\n",
       "  'gp': '10',\n",
       "  'cp': '10',\n",
       "  'p&r': '---',\n",
       "  'ord': '---'},\n",
       " {'subject_code': '204192',\n",
       "  'subject_name': 'CONTROL SYSTEMS',\n",
       "  'ise': '030/030',\n",
       "  'ese': '070/070',\n",
       "  'total': '100/100',\n",
       "  'tw': '---',\n",
       "  'pr': '---',\n",
       "  'or': '---',\n",
       "  'tot%': '100',\n",
       "  'crd': '03',\n",
       "  'grd': 'O',\n",
       "  'gp': '10',\n",
       "  'cp': '30',\n",
       "  'p&r': '---',\n",
       "  'ord': '---'},\n",
       " {'subject_code': '204193',\n",
       "  'subject_name': 'PRINCIPLES OF COMMU. SYSTEMS',\n",
       "  'ise': '030/030',\n",
       "  'ese': '070/070',\n",
       "  'total': '100/100',\n",
       "  'tw': '---',\n",
       "  'pr': '---',\n",
       "  'or': '---',\n",
       "  'tot%': '100',\n",
       "  'crd': '03',\n",
       "  'grd': 'O',\n",
       "  'gp': '10',\n",
       "  'cp': '30',\n",
       "  'p&r': '---',\n",
       "  'ord': '---'},\n",
       " {'subject_code': '204194',\n",
       "  'subject_name': 'OBJECT ORIENTED PROGRAMMING',\n",
       "  'ise': '030/030',\n",
       "  'ese': '070/070',\n",
       "  'total': '100/100',\n",
       "  'tw': '---',\n",
       "  'pr': '---',\n",
       "  'or': '---',\n",
       "  'tot%': '100',\n",
       "  'crd': '03',\n",
       "  'grd': 'O',\n",
       "  'gp': '10',\n",
       "  'cp': '30',\n",
       "  'p&r': '---',\n",
       "  'ord': '---'},\n",
       " {'subject_code': '204195',\n",
       "  'subject_name': 'SIGNALS & CONTROL SYSTEM LAB',\n",
       "  'ise': '---',\n",
       "  'ese': '---',\n",
       "  'total': '---',\n",
       "  'tw': '046/050',\n",
       "  'pr': '---',\n",
       "  'or': '---',\n",
       "  'tot%': '92',\n",
       "  'crd': '01',\n",
       "  'grd': 'O',\n",
       "  'gp': '10',\n",
       "  'cp': '10',\n",
       "  'p&r': '---',\n",
       "  'ord': '---'},\n",
       " {'subject_code': '204196',\n",
       "  'subject_name': 'PRINCIPLE OF COMMU. SYS. LAB',\n",
       "  'ise': '---',\n",
       "  'ese': '---',\n",
       "  'total': '---',\n",
       "  'tw': '---',\n",
       "  'pr': '041/050',\n",
       "  'or': '---',\n",
       "  'tot%': '82',\n",
       "  'crd': '01',\n",
       "  'grd': 'A',\n",
       "  'gp': '09',\n",
       "  'cp': '09',\n",
       "  'p&r': '---',\n",
       "  'ord': '---'},\n",
       " {'subject_code': '204197',\n",
       "  'subject_name': 'OOPS LAB',\n",
       "  'ise': '---',\n",
       "  'ese': '---',\n",
       "  'total': '---',\n",
       "  'tw': '---',\n",
       "  'pr': '---',\n",
       "  'or': '042/050',\n",
       "  'tot%': '84',\n",
       "  'crd': '01',\n",
       "  'grd': 'A',\n",
       "  'gp': '09',\n",
       "  'cp': '09',\n",
       "  'p&r': '---',\n",
       "  'ord': '---'},\n",
       " {'subject_code': '204198',\n",
       "  'subject_name': 'DATA ANALYTICS LAB',\n",
       "  'ise': '---',\n",
       "  'ese': '---',\n",
       "  'total': '---',\n",
       "  'tw': '---',\n",
       "  'pr': '---',\n",
       "  'or': '021/025',\n",
       "  'tot%': '84',\n",
       "  'crd': '01',\n",
       "  'grd': 'A',\n",
       "  'gp': '09',\n",
       "  'cp': '09',\n",
       "  'p&r': '---',\n",
       "  'ord': '---'},\n",
       " {'subject_code': '204199',\n",
       "  'subject_name': 'EMPLOYABILITY SKILL DEV.',\n",
       "  'ise': '---',\n",
       "  'ese': '---',\n",
       "  'total': '---',\n",
       "  'tw': '046/050',\n",
       "  'pr': '---',\n",
       "  'or': '---',\n",
       "  'tot%': '92',\n",
       "  'crd': '03',\n",
       "  'grd': 'O',\n",
       "  'gp': '10',\n",
       "  'cp': '30',\n",
       "  'p&r': '---',\n",
       "  'ord': '---'},\n",
       " {'subject_code': '204200',\n",
       "  'subject_name': 'PROJECT BASED LEARNING',\n",
       "  'ise': '---',\n",
       "  'ese': '---',\n",
       "  'total': '---',\n",
       "  'tw': '046/050',\n",
       "  'pr': '---',\n",
       "  'or': '---',\n",
       "  'tot%': '92',\n",
       "  'crd': '02',\n",
       "  'grd': 'O',\n",
       "  'gp': '10',\n",
       "  'cp': '20',\n",
       "  'p&r': '---',\n",
       "  'ord': '---'},\n",
       " {'subject_code': '204201C',\n",
       "  'subject_name': 'EMOTIONAL INTELLIGENCE',\n",
       "  'ise': '---',\n",
       "  'ese': '---',\n",
       "  'total': '---',\n",
       "  'tw': '---',\n",
       "  'pr': '---',\n",
       "  'or': '---',\n",
       "  'tot%': 'AC',\n",
       "  'crd': '00',\n",
       "  'grd': 'AC',\n",
       "  'gp': '00',\n",
       "  'cp': '00',\n",
       "  'p&r': '---',\n",
       "  'ord': '---'}]"
      ]
     },
     "execution_count": 27,
     "metadata": {},
     "output_type": "execute_result"
    }
   ],
   "source": [
    "subjects_sem_2"
   ]
  }
 ],
 "metadata": {
  "kernelspec": {
   "display_name": ".venv",
   "language": "python",
   "name": "python3"
  },
  "language_info": {
   "codemirror_mode": {
    "name": "ipython",
    "version": 3
   },
   "file_extension": ".py",
   "mimetype": "text/x-python",
   "name": "python",
   "nbconvert_exporter": "python",
   "pygments_lexer": "ipython3",
   "version": "3.10.12"
  },
  "orig_nbformat": 4
 },
 "nbformat": 4,
 "nbformat_minor": 2
}
